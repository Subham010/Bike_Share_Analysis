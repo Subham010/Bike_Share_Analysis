{
 "cells": [
  {
   "cell_type": "markdown",
   "metadata": {},
   "source": [
    "# 2016 US Bike Share Activity Snapshot\n",
    "\n",
    "## Table of Contents\n",
    "- [Introduction](#intro)\n",
    "- [Posing Questions](#pose_questions)\n",
    "- [Data Collection and Wrangling](#wrangling)\n",
    "  - [Condensing the Trip Data](#condensing)\n",
    "- [Exploratory Data Analysis](#eda)\n",
    "  - [Statistics](#statistics)\n",
    "  - [Visualizations](#visualizations)\n",
    "- [Performing Your Own Analysis](#eda_continued)\n",
    "- [Conclusions](#conclusions)\n",
    "\n",
    "<a id='intro'></a>\n",
    "## Introduction\n",
    "\n",
    "> **Tip**: Quoted sections like this will provide helpful instructions on how to navigate and use a Jupyter notebook.\n",
    "\n",
    "Over the past decade, bicycle-sharing systems have been growing in number and popularity in cities across the world. Bicycle-sharing systems allow users to rent bicycles for short trips, typically 30 minutes or less. Thanks to the rise in information technologies, it is easy for a user of the system to access a dock within the system to unlock or return bicycles. These technologies also provide a wealth of data that can be used to explore how these bike-sharing systems are used.\n",
    "\n",
    "In this project, you will perform an exploratory analysis on data provided by [Motivate](https://www.motivateco.com/), a bike-share system provider for many major cities in the United States. You will compare the system usage between three large cities: New York City, Chicago, and Washington, DC. You will also see if there are any differences within each system for those users that are registered, regular users and those users that are short-term, casual users."
   ]
  },
  {
   "cell_type": "markdown",
   "metadata": {},
   "source": [
    "<a id='pose_questions'></a>\n",
    "## Posing Questions\n",
    "\n",
    "Before looking at the bike sharing data, you should start by asking questions you might want to understand about the bike share data. Consider, for example, if you were working for Motivate. What kinds of information would you want to know about in order to make smarter business decisions? If you were a user of the bike-share service, what factors might influence how you would want to use the service?\n",
    "\n",
    "**Question 1**: Write at least two questions related to bike sharing that you think could be answered by data.\n",
    "\n",
    "**Answer**: \n",
    "1. At what time bike sharing is maximum? \n",
    "2. how much calorie u loose on each trip? \n",
    "3. how much more you need to cycle to reach you goal(calorie loosing goal)?\n",
    "\n",
    "\n",
    "> **Tip**: If you double click on this cell, you will see the text change so that all of the formatting is removed. This allows you to edit this block of text. This block of text is written using [Markdown](http://daringfireball.net/projects/markdown/syntax), which is a way to format text using headers, links, italics, and many other options using a plain-text syntax. You will also use Markdown later in the Nanodegree program. Use **Shift** + **Enter** or **Shift** + **Return** to run the cell and show its rendered form."
   ]
  },
  {
   "cell_type": "markdown",
   "metadata": {},
   "source": [
    "# <a id='wrangling'></a>\n",
    "## Data Collection and Wrangling\n",
    "\n",
    "Now it's time to collect and explore our data. In this project, we will focus on the record of individual trips taken in 2016 from our selected cities: New York City, Chicago, and Washington, DC. Each of these cities has a page where we can freely download the trip data.:\n",
    "\n",
    "- New York City (Citi Bike): [Link](https://www.citibikenyc.com/system-data)\n",
    "- Chicago (Divvy): [Link](https://www.divvybikes.com/system-data)\n",
    "- Washington, DC (Capital Bikeshare): [Link](https://www.capitalbikeshare.com/system-data)\n",
    "\n",
    "If you visit these pages, you will notice that each city has a different way of delivering its data. Chicago updates with new data twice a year, Washington DC is quarterly, and New York City is monthly. **However, you do not need to download the data yourself.** The data has already been collected for you in the `/data/` folder of the project files. While the original data for 2016 is spread among multiple files for each city, the files in the `/data/` folder collect all of the trip data for the year into one file per city. Some data wrangling of inconsistencies in timestamp format within each city has already been performed for you. In addition, a random 2% sample of the original data is taken to make the exploration more manageable. \n",
    "\n",
    "**Question 2**: However, there is still a lot of data for us to investigate, so it's a good idea to start off by looking at one entry from each of the cities we're going to analyze. Run the first code cell below to load some packages and functions that you'll be using in your analysis. Then, complete the second code cell to print out the first trip recorded from each of the cities (the second line of each data file).\n",
    "\n",
    "> **Tip**: You can run a code cell like you formatted Markdown cells above by clicking on the cell and using the keyboard shortcut **Shift** + **Enter** or **Shift** + **Return**. Alternatively, a code cell can be executed using the **Play** button in the toolbar after selecting it. While the cell is running, you will see an asterisk in the message to the left of the cell, i.e. `In [*]:`. The asterisk will change into a number to show that execution has completed, e.g. `In [1]`. If there is output, it will show up as `Out [1]:`, with an appropriate number to match the \"In\" number."
   ]
  },
  {
   "cell_type": "code",
   "execution_count": 1,
   "metadata": {},
   "outputs": [],
   "source": [
    "## import all necessary packages and functions.\n",
    "import csv # read and write csv files\n",
    "from datetime import datetime # operations to parse dates\n",
    "import pprint # use to print data structures like dictionaries in\n",
    "                          # a nicer way than the base print function.\n",
    "import calendar"
   ]
  },
  {
   "cell_type": "code",
   "execution_count": 2,
   "metadata": {},
   "outputs": [
    {
     "name": "stdout",
     "output_type": "stream",
     "text": [
      "\n",
      "City: NYC\n",
      "{         'bikeid': '17109',\n",
      "          'birth year': '',\n",
      "          'end station id': '401',\n",
      "          'end station latitude': '40.72019576',\n",
      "          'end station longitude': '-73.98997825',\n",
      "          'end station name': 'Allen St & Rivington St',\n",
      "          'gender': '0',\n",
      "          'start station id': '532',\n",
      "          'start station latitude': '40.710451',\n",
      "          'start station longitude': '-73.960876',\n",
      "          'start station name': 'S 5 Pl & S 4 St',\n",
      "          'starttime': '1/1/2016 00:09:55',\n",
      "          'stoptime': '1/1/2016 00:23:54',\n",
      "          'tripduration': '839',\n",
      "          'usertype': 'Customer'}\n",
      "\n",
      "City: Chicago\n",
      "{         'bikeid': '2295',\n",
      "          'birthyear': '1990',\n",
      "          'from_station_id': '156',\n",
      "          'from_station_name': 'Clark St & Wellington Ave',\n",
      "          'gender': 'Male',\n",
      "          'starttime': '3/31/2016 23:30',\n",
      "          'stoptime': '3/31/2016 23:46',\n",
      "          'to_station_id': '166',\n",
      "          'to_station_name': 'Ashland Ave & Wrightwood Ave',\n",
      "          'trip_id': '9080545',\n",
      "          'tripduration': '926',\n",
      "          'usertype': 'Subscriber'}\n",
      "\n",
      "City: Washington\n",
      "{         'Bike number': 'W20842',\n",
      "          'Duration (ms)': '427387',\n",
      "          'End date': '3/31/2016 23:04',\n",
      "          'End station': 'Georgia Ave and Fairmont St NW',\n",
      "          'End station number': '31207',\n",
      "          'Member Type': 'Registered',\n",
      "          'Start date': '3/31/2016 22:57',\n",
      "          'Start station': 'Park Rd & Holmead Pl NW',\n",
      "          'Start station number': '31602'}\n"
     ]
    }
   ],
   "source": [
    "def print_first_point(filename):\n",
    "    \"\"\"\n",
    "    This function prints and returns the first data point (second row) from\n",
    "    a csv file that includes a header row.\n",
    "    \"\"\"\n",
    "    # print city name for reference\n",
    "    city = filename.split('-')[0].split('/')[-1]\n",
    "    print('\\nCity: {}'.format(city))\n",
    "    \n",
    "    with open(filename, 'r',) as csv_file:\n",
    "        ## TODO: Use the csv library to set up a DictReader object. ##\n",
    "        ## see https://docs.python.org/3/library/csv.html           ##\n",
    "        trip_reader = csv.reader(csv_file)\n",
    "        ## TODO: Use a function on the DictReader object to read the     ##\n",
    "        ## first trip from the data file and store it in a variable.     ##\n",
    "        ## see https://docs.python.org/3/library/csv.html#reader-objects ##\n",
    "        i=0\n",
    "        key_values=[]\n",
    "        first_trip_data=[]\n",
    "        for row in trip_reader:\n",
    "            if i==0:\n",
    "                key_values = row\n",
    "                i+=1\n",
    "            elif i==1:\n",
    "                first_trip_data = row\n",
    "                break\n",
    "        first_trip = {}\n",
    "        j=0\n",
    "        while(j<len(key_values)):\n",
    "            first_trip[key_values[j]] = first_trip_data[j]\n",
    "            j += 1\n",
    "            \n",
    "        ## TODO: Use the pprint library to print the first trip. ##\n",
    "        ## see https://docs.python.org/3/library/pprint.html     ##\n",
    "        pp = pprint.PrettyPrinter(indent=10)\n",
    "        pp.pprint(first_trip)\n",
    "        \n",
    "    # output city name and first trip for later testing\n",
    "    return (city, first_trip)\n",
    "\n",
    "# list of files for each city\n",
    "data_files = ['./data/NYC-CitiBike-2016.csv',\n",
    "              './data/Chicago-Divvy-2016.csv',\n",
    "              './data/Washington-CapitalBikeshare-2016.csv',]\n",
    "\n",
    "# print the first trip from each file, store in dictionary\n",
    "example_trips = {}\n",
    "for data_file in data_files:\n",
    "    city, first_trip = print_first_point(data_file)\n",
    "    example_trips[city] = first_trip\n"
   ]
  },
  {
   "cell_type": "markdown",
   "metadata": {},
   "source": [
    "If everything has been filled out correctly, you should see below the printout of each city name (which has been parsed from the data file name) that the first trip has been parsed in the form of a dictionary. When you set up a `DictReader` object, the first row of the data file is normally interpreted as column names. Every other row in the data file will use those column names as keys, as a dictionary is generated for each row.\n",
    "\n",
    "This will be useful since we can refer to quantities by an easily-understandable label instead of just a numeric index. For example, if we have a trip stored in the variable `row`, then we would rather get the trip duration from `row['duration']` instead of `row[0]`.\n",
    "\n",
    "<a id='condensing'></a>\n",
    "### Condensing the Trip Data\n",
    "\n",
    "It should also be observable from the above printout that each city provides different information. Even where the information is the same, the column names and formats are sometimes different. To make things as simple as possible when we get to the actual exploration, we should trim and clean the data. Cleaning the data makes sure that the data formats across the cities are consistent, while trimming focuses only on the parts of the data we are most interested in to make the exploration easier to work with.\n",
    "\n",
    "You will generate new data files with five values of interest for each trip: trip duration, starting month, starting hour, day of the week, and user type. Each of these may require additional wrangling depending on the city:\n",
    "\n",
    "- **Duration**: This has been given to us in seconds (New York, Chicago) or milliseconds (Washington). A more natural unit of analysis will be if all the trip durations are given in terms of minutes.\n",
    "- **Month**, **Hour**, **Day of Week**: Ridership volume is likely to change based on the season, time of day, and whether it is a weekday or weekend. Use the start time of the trip to obtain these values. The New York City data includes the seconds in their timestamps, while Washington and Chicago do not. The [`datetime`](https://docs.python.org/3/library/datetime.html) package will be very useful here to make the needed conversions.\n",
    "- **User Type**: It is possible that users who are subscribed to a bike-share system will have different patterns of use compared to users who only have temporary passes. Washington divides its users into two types: 'Registered' for users with annual, monthly, and other longer-term subscriptions, and 'Casual', for users with 24-hour, 3-day, and other short-term passes. The New York and Chicago data uses 'Subscriber' and 'Customer' for these groups, respectively. For consistency, you will convert the Washington labels to match the other two.\n",
    "\n",
    "\n",
    "**Question 3a**: Complete the helper functions in the code cells below to address each of the cleaning tasks described above."
   ]
  },
  {
   "cell_type": "code",
   "execution_count": 3,
   "metadata": {},
   "outputs": [],
   "source": [
    "def duration_in_mins(datum, city):\n",
    "    \"\"\"\n",
    "    Takes as input a dictionary containing info about a single trip (datum) and\n",
    "    its origin city (city) and returns the trip duration in units of minutes.\n",
    "    \n",
    "    Remember that Washington is in terms of milliseconds while Chicago and NYC\n",
    "    are in terms of seconds. \n",
    "    \n",
    "    HINT: The csv module reads in all of the data as strings, including numeric\n",
    "    values. You will need a function to convert the strings into an appropriate\n",
    "    numeric type when making your transformations.\n",
    "    see https://docs.python.org/3/library/functions.html\n",
    "    \"\"\"\n",
    "    \n",
    "\n",
    "    duration = 0\n",
    "    for key in datum.keys():\n",
    "        \n",
    "        if city == \"Washington\":\n",
    "            duration_string = datum[\"Duration (ms)\"]\n",
    "            duration_int = int(duration_string)\n",
    "            duration = duration_int/60000\n",
    "        \n",
    "        elif city == \"Chicago\" or city == \"NYC\":\n",
    "            duration_string = datum[\"tripduration\"]\n",
    "            duration_int = int(duration_string)\n",
    "            duration = duration_int/60\n",
    "    \n",
    "    return duration\n",
    "\n",
    "\n",
    "# Some tests to check that your code works. There should be no output if all of\n",
    "# the assertions pass. The `example_trips` dictionary was obtained from when\n",
    "# you printed the first trip from each of the original data files.\n",
    "tests = {'NYC': 13.9833,\n",
    "         'Chicago': 15.4333,\n",
    "         'Washington': 7.1231}\n",
    "\n",
    "for city in tests:\n",
    "    assert abs(duration_in_mins(example_trips[city], city) - tests[city]) < .001"
   ]
  },
  {
   "cell_type": "code",
   "execution_count": 4,
   "metadata": {},
   "outputs": [],
   "source": [
    "def time_of_trip(datum, city):\n",
    "    \"\"\"\n",
    "    Takes as input a dictionary containing info about a single trip (datum) and\n",
    "    its origin city (city) and returns the month, hour, and day of the week in\n",
    "    which the trip was made.\n",
    "    \n",
    "    Remember that NYC includes seconds, while Washington and Chicago do not.\n",
    "    \n",
    "    HINT: You should use the datetime module to parse the original date\n",
    "    strings into a format that is useful for extracting the desired information.\n",
    "    see https://docs.python.org/3/library/datetime.html#strftime-and-strptime-behavior\n",
    "    \"\"\"\n",
    "    date_time = \"\"\n",
    "    day_of_week = \"\"\n",
    "    \n",
    "    if city == \"Washington\":\n",
    "        date_time = datetime.strptime(datum[\"Start date\"], '%m/%d/%Y %H:%M')\n",
    "        day_of_week = calendar.day_name[date_time.weekday()]\n",
    "        \n",
    "    elif city == \"Chicago\":\n",
    "        date_time = datetime.strptime(datum[\"starttime\"], '%m/%d/%Y %H:%M')\n",
    "        day_of_week = calendar.day_name[date_time.weekday()]\n",
    "    \n",
    "    elif city == \"NYC\":\n",
    "        date_time = datetime.strptime(datum[\"starttime\"], '%m/%d/%Y %H:%M:%S')\n",
    "        day_of_week = calendar.day_name[date_time.weekday()]\n",
    "        \n",
    "    return (date_time.month, date_time.hour, day_of_week)\n",
    "\n",
    "\n",
    "# Some tests to check that your code works. There should be no output if all of\n",
    "# the assertions pass. The `example_trips` dictionary was obtained from when\n",
    "# you printed the first trip from each of the original data files.\n",
    "tests = {'NYC': (1, 0, 'Friday'),\n",
    "         'Chicago': (3, 23, 'Thursday'),\n",
    "         'Washington': (3, 22, 'Thursday')}\n",
    "\n",
    "x = time_of_trip(example_trips['Washington'], 'Washington')\n",
    "\n",
    "for city in tests:\n",
    "    assert time_of_trip(example_trips[city], city) == tests[city]"
   ]
  },
  {
   "cell_type": "code",
   "execution_count": 5,
   "metadata": {},
   "outputs": [],
   "source": [
    "def type_of_user(datum, city):\n",
    "    \"\"\"\n",
    "    Takes as input a dictionary containing info about a single trip (datum) and\n",
    "    its origin city (city) and returns the type of system user that made the\n",
    "    trip.\n",
    "    \n",
    "    Remember that Washington has different category names compared to Chicago\n",
    "    and NYC. \n",
    "    \"\"\"\n",
    "    \n",
    "    user_type = ''\n",
    "    if city == 'Chicago' or city == 'NYC':\n",
    "        user_type = datum['usertype']\n",
    "        \n",
    "    elif city == 'Washington':\n",
    "        if datum['Member Type'] == 'Registered':\n",
    "            user_type = 'Subscriber'\n",
    "        else: \n",
    "            user_type = 'Customer'\n",
    "            \n",
    "    return user_type\n",
    "\n",
    "\n",
    "# Some tests to check that your code works. There should be no output if all of\n",
    "# the assertions pass. The `example_trips` dictionary was obtained from when\n",
    "# you printed the first trip from each of the original data files.\n",
    "tests = {'NYC': 'Customer',\n",
    "         'Chicago': 'Subscriber',\n",
    "         'Washington': 'Subscriber'}\n",
    "\n",
    "for city in tests:\n",
    "    assert type_of_user(example_trips[city], city) == tests[city]"
   ]
  },
  {
   "cell_type": "markdown",
   "metadata": {},
   "source": [
    "**Question 3b**: Now, use the helper functions you wrote above to create a condensed data file for each city consisting only of the data fields indicated above. In the `/examples/` folder, you will see an example datafile from the [Bay Area Bike Share](http://www.bayareabikeshare.com/open-data) before and after conversion. Make sure that your output is formatted to be consistent with the example file."
   ]
  },
  {
   "cell_type": "code",
   "execution_count": 6,
   "metadata": {},
   "outputs": [],
   "source": [
    "def condense_data(in_file, out_file, city):\n",
    "    \"\"\"\n",
    "    This function takes full data from the specified input file\n",
    "    and writes the condensed data to a specified output file. The city\n",
    "    argument determines how the input file will be parsed.\n",
    "    \n",
    "    HINT: See the cell below to see how the arguments are structured!\n",
    "    \"\"\"\n",
    "    \n",
    "    with open(out_file, 'w') as f_out, open(in_file, 'r') as f_in:\n",
    "        # set up csv DictWriter object - writer requires column names for the\n",
    "        # first row as the \"fieldnames\" argument\n",
    "        out_colnames = ['duration', 'month', 'hour', 'day_of_week', 'user_type']        \n",
    "        trip_writer = csv.writer(f_out)\n",
    "        trip_writer.writerow(out_colnames)\n",
    "        ## TODO: set up csv DictReader object ##\n",
    "        trip_reader = csv.reader(f_in)\n",
    "        key_values = []\n",
    "        # collect data from and process each row\n",
    "        # set up a dictionary to hold the values for the cleaned and trimmed\n",
    "        # data point\n",
    "        \n",
    "#             print(row)\n",
    "        i = 0\n",
    "        for row in trip_reader:\n",
    "            \n",
    "            j = 0\n",
    "            new_point = {}\n",
    "            if i == 0:\n",
    "                key_values = row\n",
    "                i += 1  \n",
    "            else:\n",
    "                while(j<len(key_values)):\n",
    "                    new_point[key_values[j]] = row[j]\n",
    "                    j += 1\n",
    "                    \n",
    "            ## TODO: use the helper functions to get the cleaned data from  ##\n",
    "            ## the original data dictionaries.                              ##\n",
    "            ## Note that the keys for the new_point dictionary should match ##\n",
    "            ## the column names set in the DictWriter object above.         ##\n",
    "            \n",
    "                duration = duration_in_mins(new_point,city)\n",
    "                user_type = type_of_user(new_point,city)\n",
    "                time = time_of_trip(new_point,city)\n",
    "                new_point_filtered = [duration,time[0],time[1],time[2],user_type]\n",
    "                trip_writer.writerow(new_point_filtered)\n",
    "    f_out.close\n",
    "    f_in.close\n",
    "            ## TODO: write the processed information to the output file.     ##\n",
    "            ## see https://docs.python.org/3/library/csv.html#writer-objects ##\n",
    "            \n",
    "            "
   ]
  },
  {
   "cell_type": "code",
   "execution_count": 7,
   "metadata": {},
   "outputs": [
    {
     "name": "stdout",
     "output_type": "stream",
     "text": [
      "\n",
      "City: Washington\n",
      "{         'day_of_week': 'Thursday',\n",
      "          'duration': '7.123116666666666',\n",
      "          'hour': '22',\n",
      "          'month': '3',\n",
      "          'user_type': 'Subscriber'}\n",
      "\n",
      "City: Chicago\n",
      "{         'day_of_week': 'Thursday',\n",
      "          'duration': '15.433333333333334',\n",
      "          'hour': '23',\n",
      "          'month': '3',\n",
      "          'user_type': 'Subscriber'}\n",
      "\n",
      "City: NYC\n",
      "{         'day_of_week': 'Friday',\n",
      "          'duration': '13.983333333333333',\n",
      "          'hour': '0',\n",
      "          'month': '1',\n",
      "          'user_type': 'Customer'}\n"
     ]
    }
   ],
   "source": [
    "# Run this cell to check your work\n",
    "city_info = {'Washington': {'in_file': './data/Washington-CapitalBikeshare-2016.csv',\n",
    "                            'out_file': './data/Washington-2016-Summary.csv'},\n",
    "             'Chicago': {'in_file': './data/Chicago-Divvy-2016.csv',\n",
    "                         'out_file': './data/Chicago-2016-Summary.csv'},\n",
    "             'NYC': {'in_file': './data/NYC-CitiBike-2016.csv',\n",
    "                     'out_file': './data/NYC-2016-Summary.csv'}}\n",
    "\n",
    "for city, filenames in city_info.items():\n",
    "    condense_data(filenames['in_file'], filenames['out_file'], city)\n",
    "    print_first_point(filenames['out_file'])"
   ]
  },
  {
   "cell_type": "markdown",
   "metadata": {},
   "source": [
    "> **Tip**: If you save a jupyter Notebook, the output from running code blocks will also be saved. However, the state of your workspace will be reset once a new session is started. Make sure that you run all of the necessary code blocks from your previous session to reestablish variables and functions before picking up where you last left off.\n",
    "\n",
    "<a id='eda'></a>\n",
    "## Exploratory Data Analysis\n",
    "\n",
    "Now that you have the data collected and wrangled, you're ready to start exploring the data. In this section you will write some code to compute descriptive statistics from the data. You will also be introduced to the `matplotlib` library to create some basic histograms of the data.\n",
    "\n",
    "<a id='statistics'></a>\n",
    "### Statistics\n",
    "\n",
    "First, let's compute some basic counts. The first cell below contains a function that uses the csv module to iterate through a provided data file, returning the number of trips made by subscribers and customers. The second cell runs this function on the example Bay Area data in the `/examples/` folder. Modify the cells to answer the question below.\n",
    "\n",
    "**Question 4a**: Which city has the highest number of trips? Which city has the highest proportion of trips made by subscribers? Which city has the highest proportion of trips made by short-term customers?\n",
    "\n",
    "**Answer**: \n",
    "\n",
    "NYC has the highest number of trips.\n",
    "\n",
    "NYC has the highest proportion of trips made by subscribers.\n",
    "\n",
    "Chicago has the highest proportion of trips made by short-term customers.\n",
    "            "
   ]
  },
  {
   "cell_type": "code",
   "execution_count": 8,
   "metadata": {},
   "outputs": [],
   "source": [
    "def number_of_trips(filename):\n",
    "    \"\"\"\n",
    "    This function reads in a file with trip data and reports the number of\n",
    "    trips made by subscribers, customers, and total overall.\n",
    "    \"\"\"\n",
    "    with open(filename, 'r') as f_in:\n",
    "        # set up csv reader object\n",
    "        reader = csv.DictReader(f_in)\n",
    "        \n",
    "        # initialize count variables\n",
    "        n_subscribers = 0\n",
    "        n_customers = 0\n",
    "        \n",
    "        # tally up ride types\n",
    "        for row in reader:\n",
    "            \n",
    "            if row['user_type'] == 'Subscriber':\n",
    "                n_subscribers += 1\n",
    "            else:\n",
    "                n_customers += 1\n",
    "        \n",
    "        # compute total number of rides\n",
    "        n_total = n_subscribers + n_customers\n",
    "        \n",
    "        # return tallies as a tuple\n",
    "        return(n_subscribers/n_total, n_customers/n_total, n_total)"
   ]
  },
  {
   "cell_type": "code",
   "execution_count": 9,
   "metadata": {},
   "outputs": [
    {
     "name": "stdout",
     "output_type": "stream",
     "text": [
      "              subscribed           customers           total\n",
      "              ----------           --------           -------\n",
      "       nyc = (0.8883590199351151, 0.11164098006488486, 276798)\n",
      "   chicago = (0.7622520136973008, 0.23774798630269925, 72131)\n",
      "washington = (0.7802822422579381, 0.21971775774206193, 66326)\n"
     ]
    }
   ],
   "source": [
    "## Modify this and the previous cell to answer Question 4a. Remember to run ##\n",
    "## the function on the cleaned data files you created from Question 3.      ##\n",
    "\n",
    "data_files = ['./data/NYC-2016-Summary.csv',\n",
    "              './data/Chicago-2016-Summary.csv',\n",
    "              './data/Washington-2016-Summary.csv',]\n",
    "\n",
    "nyc = number_of_trips(data_files[0])\n",
    "chicago = number_of_trips(data_files[1])\n",
    "washington = number_of_trips(data_files[2])\n",
    "\n",
    "print(\"              subscribed           customers           total\")\n",
    "print(\"              ----------           --------           -------\")\n",
    "print(\"       nyc = {}\".format(nyc))\n",
    "print(\"   chicago = {}\".format(chicago))\n",
    "print(\"washington = {}\".format(washington))\n",
    "\n",
    "\n"
   ]
  },
  {
   "cell_type": "markdown",
   "metadata": {},
   "source": [
    "> **Tip**: In order to add additional cells to a notebook, you can use the \"Insert Cell Above\" and \"Insert Cell Below\" options from the menu bar above. There is also an icon in the toolbar for adding new cells, with additional icons for moving the cells up and down the document. By default, new cells are of the code type; you can also specify the cell type (e.g. Code or Markdown) of selected cells from the Cell menu or the dropdown in the toolbar.\n",
    "\n",
    "Now, you will write your own code to continue investigating properties of the data.\n",
    "\n",
    "**Question 4b**: Bike-share systems are designed for riders to take short trips. Most of the time, users are allowed to take trips of 30 minutes or less with no additional charges, with overage charges made for trips of longer than that duration. What is the average trip length for each city? What proportion of rides made in each city are longer than 30 minutes?\n",
    "\n",
    "**Answer**: Average duration   \n",
    "           ------------------   \n",
    "       nyc = 15.81\n",
    "       chicago = 16.56\n",
    "       washington = 18.93\n",
    "\n",
    "proportion of rides more than 30 minutes\n",
    "---------------------------------------- \n",
    "       nyc = 0.07\n",
    "       chicago = 0.08\n",
    "       washington = 0.10\n"
   ]
  },
  {
   "cell_type": "code",
   "execution_count": 10,
   "metadata": {
    "scrolled": true
   },
   "outputs": [],
   "source": [
    "def average_trip_duration(filename):\n",
    "    \n",
    "    with open(filename, 'r') as f_in:\n",
    "        \n",
    "        reader = csv.DictReader(f_in)\n",
    "        total_trip = 0\n",
    "        total_row = 0\n",
    "        \n",
    "        for row in reader:\n",
    "            \n",
    "            total_trip += float(row['duration'])\n",
    "            total_row += 1\n",
    "            \n",
    "        return total_trip/total_row"
   ]
  },
  {
   "cell_type": "code",
   "execution_count": 11,
   "metadata": {},
   "outputs": [
    {
     "name": "stdout",
     "output_type": "stream",
     "text": [
      "         Average duration   \n",
      "        ------------------ \n",
      "       nyc = 15.81259299802294\n",
      "   chicago = 16.563629368787335\n",
      "washington = 18.93287355913721\n"
     ]
    }
   ],
   "source": [
    "data_files = ['./data/NYC-2016-Summary.csv',\n",
    "              './data/Chicago-2016-Summary.csv',\n",
    "              './data/Washington-2016-Summary.csv',]\n",
    "\n",
    "nyc = average_trip_duration(data_files[0])\n",
    "chicago = average_trip_duration(data_files[1])\n",
    "washington = average_trip_duration(data_files[2])\n",
    "\n",
    "print(\"         Average duration   \")\n",
    "print(\"        ------------------ \")\n",
    "print(\"       nyc = {}\".format(nyc))\n",
    "print(\"   chicago = {}\".format(chicago))\n",
    "print(\"washington = {}\".format(washington))"
   ]
  },
  {
   "cell_type": "code",
   "execution_count": 12,
   "metadata": {},
   "outputs": [],
   "source": [
    "def proportion_of_duration(filename):\n",
    "    \n",
    "    with open(filename,'r') as f_in:\n",
    "        \n",
    "        reader = csv.DictReader(f_in)\n",
    "        long_trip = 0\n",
    "        total_row = 0\n",
    "        for row in reader:\n",
    "            \n",
    "            if float(row['duration']) > 30:\n",
    "                \n",
    "                long_trip += 1\n",
    "                \n",
    "            total_row += 1\n",
    "            \n",
    "        return long_trip/total_row"
   ]
  },
  {
   "cell_type": "code",
   "execution_count": 13,
   "metadata": {},
   "outputs": [
    {
     "name": "stdout",
     "output_type": "stream",
     "text": [
      "proportion of rides more than 30 minutes\n",
      "---------------------------------------- \n",
      "       nyc = 0.07302437156337835\n",
      "   chicago = 0.08332062497400562\n",
      "washington = 0.10838886711093688\n"
     ]
    }
   ],
   "source": [
    "data_files = ['./data/NYC-2016-Summary.csv',\n",
    "              './data/Chicago-2016-Summary.csv',\n",
    "              './data/Washington-2016-Summary.csv',]\n",
    "\n",
    "nyc = proportion_of_duration(data_files[0])\n",
    "chicago = proportion_of_duration(data_files[1])\n",
    "washington = proportion_of_duration(data_files[2])\n",
    "\n",
    "print(\"proportion of rides more than 30 minutes\")\n",
    "print(\"---------------------------------------- \")\n",
    "print(\"       nyc = {}\".format(nyc))\n",
    "print(\"   chicago = {}\".format(chicago))\n",
    "print(\"washington = {}\".format(washington))"
   ]
  },
  {
   "cell_type": "markdown",
   "metadata": {},
   "source": [
    "**Question 4c**: Dig deeper into the question of trip duration based on ridership. Choose one city. Within that city, which type of user takes longer rides on average: Subscribers or Customers?\n",
    "\n",
    "**Answer**: \n",
    "\n",
    " NYC\n",
    "-------\n",
    "\n",
    "Average Subscriber Duration = 13.68\n",
    "\n",
    "Average Customer Duration = 32.98"
   ]
  },
  {
   "cell_type": "code",
   "execution_count": 14,
   "metadata": {},
   "outputs": [],
   "source": [
    "## Use this and additional cells to answer Question 4c. If you have    ##\n",
    "## not done so yet, consider revising some of your previous code to    ##\n",
    "## make use of functions for reusability.                              ##\n",
    "##                                                                     ##\n",
    "## TIP: For the Bay Area example data, you should find the average     ##\n",
    "## Subscriber trip duration to be 9.5 minutes and the average Customer ##\n",
    "## trip duration to be 54.6 minutes. Do the other cities have this     ##\n",
    "## level of difference?                                                ##\n",
    "\n",
    "def get_user_with_longer_rides(filename):\n",
    "    \n",
    "    with open(filename,'r') as f_in:\n",
    "        \n",
    "        reader = csv.DictReader(f_in)\n",
    "        subscriber_duration = 0\n",
    "        customer_duration = 0\n",
    "        s_total_row = 0\n",
    "        c_total_row = 0\n",
    "        \n",
    "        for row in reader:\n",
    "            \n",
    "            if row['user_type'] == 'Subscriber':\n",
    "            \n",
    "                subscriber_duration += float(row['duration'])\n",
    "                s_total_row += 1\n",
    "            \n",
    "            elif row['user_type'] == 'Customer':\n",
    "                \n",
    "                customer_duration += float(row['duration'])\n",
    "                c_total_row += 1\n",
    "                \n",
    "        \n",
    "        return (subscriber_duration/s_total_row,customer_duration/c_total_row)"
   ]
  },
  {
   "cell_type": "code",
   "execution_count": 15,
   "metadata": {},
   "outputs": [
    {
     "name": "stdout",
     "output_type": "stream",
     "text": [
      " NYC\n",
      "-------\n",
      "Average Subscriber Duration = 13.680790523907177\n",
      "  Average Customer Duration = 32.982004306775025\n"
     ]
    }
   ],
   "source": [
    "data_file = './data/NYC-2016-Summary.csv'\n",
    "\n",
    "date_return = get_user_with_longer_rides(data_file)\n",
    "\n",
    "print(\" NYC\")\n",
    "print(\"-------\")\n",
    "print(\"Average Subscriber Duration = {}\".format(date_return[0]))\n",
    "print(\"  Average Customer Duration = {}\".format(date_return[1]))"
   ]
  },
  {
   "cell_type": "markdown",
   "metadata": {},
   "source": [
    "<a id='visualizations'></a>\n",
    "### Visualizations\n",
    "\n",
    "The last set of values that you computed should have pulled up an interesting result. While the mean trip time for Subscribers is well under 30 minutes, the mean trip time for Customers is actually _above_ 30 minutes! It will be interesting for us to look at how the trip times are distributed. In order to do this, a new library will be introduced here, `matplotlib`. Run the cell below to load the library and to generate an example plot."
   ]
  },
  {
   "cell_type": "code",
   "execution_count": 16,
   "metadata": {},
   "outputs": [
    {
     "data": {
      "image/png": "[encoded data removed]",
      "text/plain": [
       "<Figure size 432x288 with 1 Axes>"
      ]
     },
     "metadata": {},
     "output_type": "display_data"
    }
   ],
   "source": [
    "# load library\n",
    "import matplotlib.pyplot as plt\n",
    "\n",
    "# this is a 'magic word' that allows for plots to be displayed\n",
    "# inline with the notebook. If you want to know more, see:\n",
    "# http://ipython.readthedocs.io/en/stable/interactive/magics.html\n",
    "%matplotlib inline \n",
    "\n",
    "# example histogram, data taken from bay area sample\n",
    "data = [ 7.65,  8.92,  7.42,  5.50, 16.17,  4.20,  8.98,  9.62, 11.48, 14.33,\n",
    "        19.02, 21.53,  3.90,  7.97,  2.62,  2.67,  3.08, 14.40, 12.90,  7.83,\n",
    "        25.12,  8.30,  4.93, 12.43, 10.60,  6.17, 10.88,  4.78, 15.15,  3.53,\n",
    "         9.43, 13.32, 11.72,  9.85,  5.22, 15.10,  3.95,  3.17,  8.78,  1.88,\n",
    "         4.55, 12.68, 12.38,  9.78,  7.63,  6.45, 17.38, 11.90, 11.52,  8.63,]\n",
    "plt.hist(data)\n",
    "plt.title('Distribution of Trip Durations')\n",
    "plt.xlabel('Duration (m)')\n",
    "plt.show()"
   ]
  },
  {
   "cell_type": "markdown",
   "metadata": {},
   "source": [
    "In the above cell, we collected fifty trip times in a list, and passed this list as the first argument to the `.hist()` function. This function performs the computations and creates plotting objects for generating a histogram, but the plot is actually not rendered until the `.show()` function is executed. The `.title()` and `.xlabel()` functions provide some labeling for plot context.\n",
    "\n",
    "You will now use these functions to create a histogram of the trip times for the city you selected in question 4c. Don't separate the Subscribers and Customers for now: just collect all of the trip times and plot them."
   ]
  },
  {
   "cell_type": "code",
   "execution_count": 17,
   "metadata": {},
   "outputs": [],
   "source": [
    "def create_histogram(filename):\n",
    "    \n",
    "    duration_data = []\n",
    "    with open(filename,'r') as f_in:\n",
    "        \n",
    "        reader = csv.DictReader(f_in)\n",
    "        for row in reader:\n",
    "            x = round(float(row['duration']),2)\n",
    "            duration_data.append(x)\n",
    "    return duration_data"
   ]
  },
  {
   "cell_type": "code",
   "execution_count": 18,
   "metadata": {},
   "outputs": [
    {
     "data": {
      "image/png": "[encoded data removed]",
      "text/plain": [
       "<Figure size 432x288 with 1 Axes>"
      ]
     },
     "metadata": {},
     "output_type": "display_data"
    }
   ],
   "source": [
    "## Use this and additional cells to collect all of the trip times as a list ##\n",
    "## and then use pyplot functions to generate a histogram of trip times.     ##\n",
    "import matplotlib.pyplot as plt\n",
    "%matplotlib inline \n",
    "\n",
    "data_file = './data/NYC-2016-Summary.csv'\n",
    "data = create_histogram(data_file)\n",
    "plt.hist(data)\n",
    "plt.title(\"NYC\")\n",
    "plt.ylabel(\"Frequency\")\n",
    "plt.xlabel(\"Duration (m)\")\n",
    "plt.show()"
   ]
  },
  {
   "cell_type": "markdown",
   "metadata": {},
   "source": [
    "If you followed the use of the `.hist()` and `.show()` functions exactly like in the example, you're probably looking at a plot that's completely unexpected. The plot consists of one extremely tall bar on the left, maybe a very short second bar, and a whole lot of empty space in the center and right. Take a look at the duration values on the x-axis. This suggests that there are some highly infrequent outliers in the data. Instead of reprocessing the data, you will use additional parameters with the `.hist()` function to limit the range of data that is plotted. Documentation for the function can be found [[here]](https://matplotlib.org/devdocs/api/_as_gen/matplotlib.pyplot.hist.html#matplotlib.pyplot.hist).\n",
    "\n",
    "**Question 5**: Use the parameters of the `.hist()` function to plot the distribution of trip times for the Subscribers in your selected city. Do the same thing for only the Customers. Add limits to the plots so that only trips of duration less than 75 minutes are plotted. As a bonus, set the plots up so that bars are in five-minute wide intervals. For each group, where is the peak of each distribution? How would you describe the shape of each distribution?\n",
    "\n",
    "**Answer**: \n",
    "NY Duration Histogram\n",
    "--\n",
    "Peak \n",
    "--\n",
    "Subscribers : 5 - 10 min\n",
    "\n",
    "Customers : 20 - 25 min\n",
    "  \n",
    "Shape of Distribution\n",
    "--\n",
    "Subscribers : It is a right skewed Distribution. This kind of user use bike for less duration.\n",
    "\n",
    "Customers : It is also a right skewed Distribution. This kind of user use bike for more duration around 15 to 25 minutes.\n",
    "\n",
    "- In both cases frequency of users decreases as duration increases. People dont use bike more than a hour generaly."
   ]
  },
  {
   "cell_type": "code",
   "execution_count": 19,
   "metadata": {},
   "outputs": [],
   "source": [
    "def create_histogram(filename,key):\n",
    "    \n",
    "    duration_data = []\n",
    "    sum_total = 0\n",
    "    i = 1\n",
    "    with open(filename,'r') as f_in:\n",
    "        \n",
    "        reader = csv.DictReader(f_in)\n",
    "        for row in reader:\n",
    "            \n",
    "            if row['user_type'] == key and float(row['duration']) < 75:\n",
    "                \n",
    "                x = round(float(row['duration']),2)\n",
    "                duration_data.append(x)\n",
    "                sum_total += x\n",
    "                i += 1\n",
    "    \n",
    "    print(\"mean = {}\".format(sum_total/i))\n",
    "    \n",
    "    duration_data.sort()\n",
    "    length = len(duration_data)\n",
    "    if length%2 != 0:\n",
    "        print(\"median = {}\".format(duration_data[int((length-1)/2)]))\n",
    "    else:\n",
    "        ix = int(length/2)\n",
    "        zx = duration_data[ix]+duration_data[ix-1]\n",
    "        print(\"median = {}\".format(zx/2))\n",
    "    return duration_data\n",
    "\n"
   ]
  },
  {
   "cell_type": "code",
   "execution_count": 20,
   "metadata": {},
   "outputs": [
    {
     "name": "stdout",
     "output_type": "stream",
     "text": [
      "mean = 12.225012048782478\n",
      "median = 9.7\n",
      "mean = 22.201201384083213\n",
      "median = 20.63\n"
     ]
    },
    {
     "data": {
      "image/png": "[encoded data removed]",
      "text/plain": [
       "<Figure size 432x288 with 1 Axes>"
      ]
     },
     "metadata": {},
     "output_type": "display_data"
    },
    {
     "data": {
      "image/png": "[encoded data removed]",
      "text/plain": [
       "<Figure size 432x288 with 1 Axes>"
      ]
     },
     "metadata": {},
     "output_type": "display_data"
    }
   ],
   "source": [
    "import matplotlib.pyplot as plt\n",
    "%matplotlib inline \n",
    "\n",
    "data_file = './data/NYC-2016-Summary.csv'\n",
    "data1 = create_histogram(data_file,'Subscriber')\n",
    "data2 = create_histogram(data_file,'Customer')\n",
    "\n",
    "plt.hist(data1,15)\n",
    "plt.title(\"NYC\")\n",
    "plt.ylabel(\"Frequency\")\n",
    "plt.xlabel(\"Subscriber Duration (m)\")\n",
    "plt.show()\n",
    "\n",
    "plt.hist(data2,15)\n",
    "plt.title(\"NYC\")\n",
    "plt.ylabel(\"Frequency\")\n",
    "plt.xlabel(\"Customer Duration (m)\")\n",
    "plt.show()"
   ]
  },
  {
   "cell_type": "markdown",
   "metadata": {
    "collapsed": true
   },
   "source": [
    "<a id='eda_continued'></a>\n",
    "## Performing Your Own Analysis\n",
    "\n",
    "So far, you've performed an initial exploration into the data available. You have compared the relative volume of trips made between three U.S. cities and the ratio of trips made by Subscribers and Customers. For one of these cities, you have investigated differences between Subscribers and Customers in terms of how long a typical trip lasts. Now it is your turn to continue the exploration in a direction that you choose. Here are a few suggestions for questions to explore:\n",
    "\n",
    "- How does ridership differ by month or season? Which month / season has the highest ridership? Does the ratio of Subscriber trips to Customer trips change depending on the month or season?\n",
    "- Is the pattern of ridership different on the weekends versus weekdays? On what days are Subscribers most likely to use the system? What about Customers? Does the average duration of rides change depending on the day of the week?\n",
    "- During what time of day is the system used the most? Is there a difference in usage patterns for Subscribers and Customers?\n",
    "\n",
    "If any of the questions you posed in your answer to question 1 align with the bullet points above, this is a good opportunity to investigate one of them. As part of your investigation, you will need to create a visualization. If you want to create something other than a histogram, then you might want to consult the [Pyplot documentation](https://matplotlib.org/devdocs/api/pyplot_summary.html). In particular, if you are plotting values across a categorical variable (e.g. city, user type), a bar chart will be useful. The [documentation page for `.bar()`](https://matplotlib.org/devdocs/api/_as_gen/matplotlib.pyplot.bar.html#matplotlib.pyplot.bar) includes links at the bottom of the page with examples for you to build off of for your own use.\n",
    "\n",
    "**Question 6**: Continue the investigation by exploring another question that could be answered by the data available. Document the question you want to explore below. Your investigation should involve at least two variables and should compare at least two groups. You should also use at least one visualization as part of your explorations.\n",
    "\n",
    "**Answer**: \n",
    "NY\n",
    "----\n",
    "I did my investigation and found that the subscriber and customer has the different pattern.\n",
    "\n",
    "* We can see the week day graph for customer and subscriber. Subscribers tend to use bike more on the weekdays but, Customers use the bike more on weekends and less on weekdays.\n",
    "\n",
    "\n",
    "* In the hour graph, We can see Subscribers tend to use bike more at morning and evening whereas, Customers use the bike more at afternoon time.\n",
    "\n",
    "\n",
    "* In the season/month graph we can see both Subscribers and Customers has used the bike more on the month of August, September and October.\n",
    "\n",
    "\n",
    "* I have also investigated the duration V/S frequency for each day of week. Subscriber's duration V/S frequency is basicaly similer on all day of week, little difference is there in pattern. Same goes for Customer.\n",
    "\n",
    "\n",
    "* I have also investigated the usage pattern of hour V/S frequency on each day of week. Subscriber's usage pattern on time of day is basicaly similer on all day of week, little difference is there in pattern. Same goes for Customer."
   ]
  },
  {
   "cell_type": "code",
   "execution_count": null,
   "metadata": {},
   "outputs": [],
   "source": []
  },
  {
   "cell_type": "code",
   "execution_count": 21,
   "metadata": {},
   "outputs": [],
   "source": [
    "import csv\n",
    "from datetime import datetime \n",
    "import pprint\n",
    "import calendar\n",
    "import numpy as np\n",
    "import matplotlib.pyplot as plt\n",
    "%matplotlib inline\n",
    "\n",
    "def show_season_histogram(filename):\n",
    "    \n",
    "    with open(filename,'r') as f_in:\n",
    "        \n",
    "        subscriber_frequency = [0,0,0,0,0,0,0]\n",
    "        customer_frequency = [0,0,0,0,0,0,0]\n",
    "        week_day = list(calendar.day_name)\n",
    "\n",
    "        reader = csv.DictReader(f_in)\n",
    "        for row in reader:\n",
    "            \n",
    "            if row['user_type'] == \"Subscriber\":\n",
    "                \n",
    "                index = week_day.index(row['day_of_week'])\n",
    "                subscriber_frequency[index] += 1\n",
    "                \n",
    "            elif row['user_type'] == \"Customer\":\n",
    "                \n",
    "                index = week_day.index(row['day_of_week'])\n",
    "                customer_frequency[index] += 1\n",
    "                \n",
    "        return (subscriber_frequency,customer_frequency)"
   ]
  },
  {
   "cell_type": "code",
   "execution_count": 22,
   "metadata": {},
   "outputs": [
    {
     "data": {
      "image/png": "[encoded data removed]",
      "text/plain": [
       "<Figure size 432x288 with 1 Axes>"
      ]
     },
     "metadata": {},
     "output_type": "display_data"
    },
    {
     "data": {
      "image/png": "[encoded data removed]",
      "text/plain": [
       "<Figure size 432x288 with 1 Axes>"
      ]
     },
     "metadata": {},
     "output_type": "display_data"
    }
   ],
   "source": [
    "data_file = './data/NYC-2016-Summary.csv'\n",
    "\n",
    "frequency = show_season_histogram(data_file)\n",
    "x = np.arange(7)\n",
    "\n",
    "plt.bar(x,frequency[0],0.5)\n",
    "plt.xticks(x, list(calendar.day_name))\n",
    "plt.title(\"NYC\")\n",
    "plt.ylabel(\"Frequency\")\n",
    "plt.xlabel(\"Subscriber Weekdays\")\n",
    "plt.show()\n",
    "\n",
    "plt.bar(x,frequency[1],0.5)\n",
    "plt.xticks(x, list(calendar.day_name))\n",
    "plt.title(\"NYC\")\n",
    "plt.ylabel(\"Frequency\")\n",
    "plt.xlabel(\"Customer Season\")\n",
    "plt.show()\n",
    "\n"
   ]
  },
  {
   "cell_type": "code",
   "execution_count": 23,
   "metadata": {},
   "outputs": [],
   "source": [
    "def create_histogram_timeOfDay(filename):\n",
    "    \n",
    "    s_hour_list = []\n",
    "    c_hour_list = []\n",
    "    with open(filename,'r') as f_in:\n",
    "        \n",
    "        reader = csv.DictReader(f_in)\n",
    "        for row in reader:\n",
    "            \n",
    "            if row['user_type'] == 'Subscriber':\n",
    "                \n",
    "                x = int(row['hour'])\n",
    "                s_hour_list.append(x)\n",
    "                \n",
    "            elif row['user_type'] == 'Customer':\n",
    "                \n",
    "                x = int(row['hour'])\n",
    "                c_hour_list.append(x)\n",
    "                \n",
    "    return (s_hour_list,c_hour_list)\n",
    "\n"
   ]
  },
  {
   "cell_type": "code",
   "execution_count": 26,
   "metadata": {},
   "outputs": [
    {
     "data": {
      "image/png": "[encoded data removed]",
      "text/plain": [
       "<Figure size 432x288 with 1 Axes>"
      ]
     },
     "metadata": {},
     "output_type": "display_data"
    },
    {
     "data": {
      "image/png": "[encoded data removed]",
      "text/plain": [
       "<Figure size 432x288 with 1 Axes>"
      ]
     },
     "metadata": {},
     "output_type": "display_data"
    }
   ],
   "source": [
    "data = create_histogram_timeOfDay(data_file)\n",
    "\n",
    "bin = [0,2,4,6,8,10,12,14,16,18,20,22,24]\n",
    "plt.hist(data[0],bin,rwidth=0.9)\n",
    "plt.title(\"NYC\")\n",
    "plt.ylabel(\"Frequency\")\n",
    "plt.xlabel(\"Hour\\nSubscriber\")\n",
    "plt.show()\n",
    "\n",
    "plt.hist(data[1],bin,rwidth=0.9)\n",
    "plt.title(\"NYC\")\n",
    "plt.ylabel(\"Frequency\")\n",
    "plt.xlabel(\"Hour\\nCustomer\")\n",
    "plt.show()"
   ]
  },
  {
   "cell_type": "code",
   "execution_count": 41,
   "metadata": {},
   "outputs": [],
   "source": [
    "def create_season_bargraph(filename):\n",
    "    \n",
    "    subscriber_frequency = [0,0,0,0,0,0,0,0,0,0,0,0]\n",
    "    customer_frequency = [0,0,0,0,0,0,0,0,0,0,0,0]\n",
    "    \n",
    "    with open(filename,'r') as f_in:\n",
    "        \n",
    "        reader = csv.DictReader(f_in)\n",
    "        for row in reader:\n",
    "            \n",
    "            if row['user_type'] == 'Subscriber':\n",
    "                \n",
    "                index = int(row['month'])\n",
    "                subscriber_frequency[index-1] += 1\n",
    "                \n",
    "            elif row['user_type'] == 'Customer':\n",
    "                \n",
    "                index = int(row['month'])\n",
    "                customer_frequency[index-1] += 1\n",
    "                \n",
    "    return (subscriber_frequency,customer_frequency)\n",
    "\n"
   ]
  },
  {
   "cell_type": "code",
   "execution_count": 42,
   "metadata": {},
   "outputs": [
    {
     "data": {
      "image/png": "[encoded data removed]",
      "text/plain": [
       "<Figure size 432x288 with 1 Axes>"
      ]
     },
     "metadata": {},
     "output_type": "display_data"
    },
    {
     "data": {
      "image/png": "[encoded data removed]",
      "text/plain": [
       "<Figure size 432x288 with 1 Axes>"
      ]
     },
     "metadata": {},
     "output_type": "display_data"
    }
   ],
   "source": [
    "frequency = create_season_bargraph(data_file)\n",
    "\n",
    "x = np.arange(12)\n",
    "month_name = ['Jan','Feb','Mar','Apr','May','Jun','Jul','Aug','Sep','Oct','Nov','Dec']\n",
    "\n",
    "plt.bar(x,frequency[0],0.5)\n",
    "plt.xticks(x, month_name)\n",
    "plt.title(\"NYC\")\n",
    "plt.ylabel(\"Frequency\")\n",
    "plt.xlabel(\"Subscriber month\")\n",
    "plt.show()\n",
    "\n",
    "plt.bar(x,frequency[1],0.5)\n",
    "plt.xticks(x, month_name)\n",
    "plt.title(\"NYC\")\n",
    "plt.ylabel(\"Frequency\")\n",
    "plt.xlabel(\"Customer month\")\n",
    "plt.show()\n"
   ]
  },
  {
   "cell_type": "code",
   "execution_count": 43,
   "metadata": {},
   "outputs": [],
   "source": [
    "def create_histogram_duration_by_day(filename,key):\n",
    "    \n",
    "    s_duration_data = []\n",
    "    c_duration_data = []\n",
    "    with open(filename,'r') as f_in:\n",
    "        \n",
    "        reader = csv.DictReader(f_in)\n",
    "        for row in reader:\n",
    "            \n",
    "            if row[\"day_of_week\"] == key and float(row['duration']) < 75:\n",
    "                \n",
    "                x = round(float(row['duration']),2)\n",
    "                \n",
    "                if row['user_type'] == \"Subscriber\":\n",
    "                \n",
    "                    s_duration_data.append(x)\n",
    "                    \n",
    "                elif row['user_type'] == \"Customer\":\n",
    "                    \n",
    "                    c_duration_data.append(x)    \n",
    "                    \n",
    "    return (s_duration_data, c_duration_data)"
   ]
  },
  {
   "cell_type": "code",
   "execution_count": 44,
   "metadata": {},
   "outputs": [
    {
     "name": "stdout",
     "output_type": "stream",
     "text": [
      "\n",
      "-------------\n",
      "Monday\n",
      "-------------\n",
      "\n"
     ]
    },
    {
     "data": {
      "image/png": "[encoded data removed]",
      "text/plain": [
       "<Figure size 432x288 with 1 Axes>"
      ]
     },
     "metadata": {},
     "output_type": "display_data"
    },
    {
     "data": {
      "image/png": "[encoded data removed]",
      "text/plain": [
       "<Figure size 432x288 with 1 Axes>"
      ]
     },
     "metadata": {},
     "output_type": "display_data"
    },
    {
     "name": "stdout",
     "output_type": "stream",
     "text": [
      "\n",
      "-------------\n",
      "Tuesday\n",
      "-------------\n",
      "\n"
     ]
    },
    {
     "data": {
      "image/png": "[encoded data removed]",
      "text/plain": [
       "<Figure size 432x288 with 1 Axes>"
      ]
     },
     "metadata": {},
     "output_type": "display_data"
    },
    {
     "data": {
      "image/png": "[encoded data removed]",
      "text/plain": [
       "<Figure size 432x288 with 1 Axes>"
      ]
     },
     "metadata": {},
     "output_type": "display_data"
    },
    {
     "name": "stdout",
     "output_type": "stream",
     "text": [
      "\n",
      "-------------\n",
      "Wednesday\n",
      "-------------\n",
      "\n"
     ]
    },
    {
     "data": {
      "image/png": "[encoded data removed]",
      "text/plain": [
       "<Figure size 432x288 with 1 Axes>"
      ]
     },
     "metadata": {},
     "output_type": "display_data"
    },
    {
     "data": {
      "image/png": "[encoded data removed]",
      "text/plain": [
       "<Figure size 432x288 with 1 Axes>"
      ]
     },
     "metadata": {},
     "output_type": "display_data"
    },
    {
     "name": "stdout",
     "output_type": "stream",
     "text": [
      "\n",
      "-------------\n",
      "Thursday\n",
      "-------------\n",
      "\n"
     ]
    },
    {
     "data": {
      "image/png": "[encoded data removed]",
      "text/plain": [
       "<Figure size 432x288 with 1 Axes>"
      ]
     },
     "metadata": {},
     "output_type": "display_data"
    },
    {
     "data": {
      "image/png": "[encoded data removed]",
      "text/plain": [
       "<Figure size 432x288 with 1 Axes>"
      ]
     },
     "metadata": {},
     "output_type": "display_data"
    },
    {
     "name": "stdout",
     "output_type": "stream",
     "text": [
      "\n",
      "-------------\n",
      "Friday\n",
      "-------------\n",
      "\n"
     ]
    },
    {
     "data": {
      "image/png": "[encoded data removed]",
      "text/plain": [
       "<Figure size 432x288 with 1 Axes>"
      ]
     },
     "metadata": {},
     "output_type": "display_data"
    },
    {
     "data": {
      "image/png": "[encoded data removed]",
      "text/plain": [
       "<Figure size 432x288 with 1 Axes>"
      ]
     },
     "metadata": {},
     "output_type": "display_data"
    },
    {
     "name": "stdout",
     "output_type": "stream",
     "text": [
      "\n",
      "-------------\n",
      "Saturday\n",
      "-------------\n",
      "\n"
     ]
    },
    {
     "data": {
      "image/png": "[encoded data removed]",
      "text/plain": [
       "<Figure size 432x288 with 1 Axes>"
      ]
     },
     "metadata": {},
     "output_type": "display_data"
    },
    {
     "data": {
      "image/png": "[encoded data removed]",
      "text/plain": [
       "<Figure size 432x288 with 1 Axes>"
      ]
     },
     "metadata": {},
     "output_type": "display_data"
    },
    {
     "name": "stdout",
     "output_type": "stream",
     "text": [
      "\n",
      "-------------\n",
      "Sunday\n",
      "-------------\n",
      "\n"
     ]
    },
    {
     "data": {
      "image/png": "[encoded data removed]",
      "text/plain": [
       "<Figure size 432x288 with 1 Axes>"
      ]
     },
     "metadata": {},
     "output_type": "display_data"
    },
    {
     "data": {
      "image/png": "[encoded data removed]",
      "text/plain": [
       "<Figure size 432x288 with 1 Axes>"
      ]
     },
     "metadata": {},
     "output_type": "display_data"
    }
   ],
   "source": [
    "\n",
    "day_list = list(calendar.day_name)\n",
    "\n",
    "for day in day_list:\n",
    "    \n",
    "    data = create_histogram_duration_by_day(data_file,day)\n",
    "    print(\"\\n-------------\\n{}\\n-------------\\n\".format(day))\n",
    "    \n",
    "    plt.hist(data[0])\n",
    "    plt.title(\"NYC\")\n",
    "    plt.ylabel(\"Frequency\")\n",
    "    plt.xlabel(\"Subscriber Duration (m)\")\n",
    "    plt.show()\n",
    "\n",
    "    plt.hist(data[1])\n",
    "    plt.title(\"NYC\")\n",
    "    plt.ylabel(\"Frequency\")\n",
    "    plt.xlabel(\"Customer Duration (m)\")\n",
    "    plt.show()"
   ]
  },
  {
   "cell_type": "code",
   "execution_count": 45,
   "metadata": {},
   "outputs": [],
   "source": [
    "def create_histogram_timeOfDay(filename,key):\n",
    "    \n",
    "    s_hour_list = []\n",
    "    c_hour_list = []\n",
    "    with open(filename,'r') as f_in:\n",
    "        \n",
    "        reader = csv.DictReader(f_in)\n",
    "        for row in reader:\n",
    "            \n",
    "            if row['day_of_week'] == key:\n",
    "                \n",
    "                x = int(row['hour'])\n",
    "                if row['user_type'] == 'Subscriber':\n",
    "                \n",
    "                    s_hour_list.append(x)\n",
    "                \n",
    "                elif row['user_type'] == 'Customer':\n",
    "                \n",
    "                    c_hour_list.append(x)\n",
    "                \n",
    "    return (s_hour_list,c_hour_list)\n",
    "\n"
   ]
  },
  {
   "cell_type": "code",
   "execution_count": 46,
   "metadata": {},
   "outputs": [
    {
     "name": "stdout",
     "output_type": "stream",
     "text": [
      "\n",
      "-------------\n",
      "Monday\n",
      "-------------\n",
      "\n"
     ]
    },
    {
     "data": {
      "image/png": "[encoded data removed]",
      "text/plain": [
       "<Figure size 432x288 with 1 Axes>"
      ]
     },
     "metadata": {},
     "output_type": "display_data"
    },
    {
     "name": "stdout",
     "output_type": "stream",
     "text": [
      "\n",
      "-------------\n",
      "Tuesday\n",
      "-------------\n",
      "\n"
     ]
    },
    {
     "data": {
      "image/png": "[encoded data removed]",
      "text/plain": [
       "<Figure size 432x288 with 1 Axes>"
      ]
     },
     "metadata": {},
     "output_type": "display_data"
    },
    {
     "name": "stdout",
     "output_type": "stream",
     "text": [
      "\n",
      "-------------\n",
      "Wednesday\n",
      "-------------\n",
      "\n"
     ]
    },
    {
     "data": {
      "image/png": "[encoded data removed]",
      "text/plain": [
       "<Figure size 432x288 with 1 Axes>"
      ]
     },
     "metadata": {},
     "output_type": "display_data"
    },
    {
     "name": "stdout",
     "output_type": "stream",
     "text": [
      "\n",
      "-------------\n",
      "Thursday\n",
      "-------------\n",
      "\n"
     ]
    },
    {
     "data": {
      "image/png": "[encoded data removed]",
      "text/plain": [
       "<Figure size 432x288 with 1 Axes>"
      ]
     },
     "metadata": {},
     "output_type": "display_data"
    },
    {
     "name": "stdout",
     "output_type": "stream",
     "text": [
      "\n",
      "-------------\n",
      "Friday\n",
      "-------------\n",
      "\n"
     ]
    },
    {
     "data": {
      "image/png": "[encoded data removed]",
      "text/plain": [
       "<Figure size 432x288 with 1 Axes>"
      ]
     },
     "metadata": {},
     "output_type": "display_data"
    },
    {
     "name": "stdout",
     "output_type": "stream",
     "text": [
      "\n",
      "-------------\n",
      "Saturday\n",
      "-------------\n",
      "\n"
     ]
    },
    {
     "data": {
      "image/png": "[encoded data removed]",
      "text/plain": [
       "<Figure size 432x288 with 1 Axes>"
      ]
     },
     "metadata": {},
     "output_type": "display_data"
    },
    {
     "name": "stdout",
     "output_type": "stream",
     "text": [
      "\n",
      "-------------\n",
      "Sunday\n",
      "-------------\n",
      "\n"
     ]
    },
    {
     "data": {
      "image/png": "[encoded data removed]",
      "text/plain": [
       "<Figure size 432x288 with 1 Axes>"
      ]
     },
     "metadata": {},
     "output_type": "display_data"
    }
   ],
   "source": [
    "day_list = list(calendar.day_name)\n",
    "\n",
    "for day in day_list:\n",
    "    \n",
    "    data = create_histogram_duration_by_day(data_file,day)\n",
    "    print(\"\\n-------------\\n{}\\n-------------\\n\".format(day))\n",
    "    \n",
    "    bin = [0,2,4,6,8,10,12,14,16,18,20,22,24]\n",
    "#     plt.hist(data[0],bin,rwidth=0.9)\n",
    "#     plt.title(\"NYC\")\n",
    "#     plt.ylabel(\"Frequency\")\n",
    "#     plt.xlabel(\"Hour\\nSubscriber\")\n",
    "#     plt.show()\n",
    "\n",
    "    plt.hist(data[1],bin,rwidth=0.9)\n",
    "    plt.title(\"NYC\")\n",
    "    plt.ylabel(\"Frequency\")\n",
    "    plt.xlabel(\"Hour\\nCustomer\")\n",
    "    plt.show()"
   ]
  },
  {
   "cell_type": "markdown",
   "metadata": {},
   "source": [
    "<a id='conclusions'></a>\n",
    "## Conclusions\n",
    "\n",
    "Congratulations on completing the project! This is only a sampling of the data analysis process: from generating questions, wrangling the data, and to exploring the data. Normally, at this point in the data analysis process, you might want to draw conclusions about the data by performing a statistical test or fitting the data to a model for making predictions. There are also a lot of potential analyses that could be performed on the data which are not possible with only the data provided. For example, detailed location data has not been investigated. Where are the most commonly used docks? What are the most common routes? As another example, weather has potential to have a large impact on daily ridership. How much is ridership impacted when there is rain or snow? Are subscribers or customers affected more by changes in weather?\n",
    "\n",
    "**Question 7**: Putting the bike share data aside, think of a topic or field of interest where you would like to be able to apply the techniques of data science. What would you like to be able to learn from your chosen subject?\n",
    "\n",
    "**Answer**: I would like to apply the techniques of data science on many fields, such as, Automated cars, image recognition and more. I want to learn the same.\n",
    "\n",
    "\n",
    "Thank you \n",
    "\n",
    "Subham Choudhary\n",
    "\n",
    "> **Tip**: If we want to share the results of our analysis with others, we aren't limited to giving them a copy of the jupyter Notebook (.ipynb) file. We can also export the Notebook output in a form that can be opened even for those without Python installed. From the **File** menu in the upper left, go to the **Download as** submenu. You can then choose a different format that can be viewed more generally, such as HTML (.html) or\n",
    "PDF (.pdf). You may need additional packages or software to perform these exports."
   ]
  },
  {
   "cell_type": "code",
   "execution_count": null,
   "metadata": {},
   "outputs": [],
   "source": []
  }
 ],
 "metadata": {
  "anaconda-cloud": {},
  "kernelspec": {
   "display_name": "Python 3",
   "language": "python",
   "name": "python3"
  },
  "language_info": {
   "codemirror_mode": {
    "name": "ipython",
    "version": 3
   },
   "file_extension": ".py",
   "mimetype": "text/x-python",
   "name": "python",
   "nbconvert_exporter": "python",
   "pygments_lexer": "ipython3",
   "version": "3.6.5"
  }
 },
 "nbformat": 4,
 "nbformat_minor": 1
}
